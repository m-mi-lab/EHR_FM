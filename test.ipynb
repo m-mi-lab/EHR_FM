{
 "cells": [
  {
   "cell_type": "code",
   "execution_count": 1,
   "id": "dadd881c",
   "metadata": {},
   "outputs": [],
   "source": [
    "## analyse the parquet files\n",
    "import polars as pl\n",
    "import os"
   ]
  },
  {
   "cell_type": "code",
   "execution_count": 3,
   "id": "5c4f5a63",
   "metadata": {},
   "outputs": [],
   "source": [
    "TEST_ = \"/workspace/ehr_stuff/EHR_FM/data/meds/data/test\"\n",
    "files = os.listdir(TEST_)\n",
    "df = pl.read_parquet(os.path.join(TEST_, files[0]))"
   ]
  },
  {
   "cell_type": "code",
   "execution_count": 12,
   "id": "2e3495ac",
   "metadata": {},
   "outputs": [],
   "source": [
    "temp_ = df.filter(\n",
    "    pl.col(\"subject_id\") == 10001919\n",
    ") "
   ]
  },
  {
   "cell_type": "code",
   "execution_count": null,
   "metadata": {},
   "outputs": [],
   "source": [
    "te"
   ]
  },
  {
   "cell_type": "code",
   "execution_count": null,
   "metadata": {},
   "outputs": [],
   "source": []
  }
 ],
 "metadata": {
  "kernelspec": {
   "display_name": "ehr_venv",
   "language": "python",
   "name": "python3"
  },
  "language_info": {
   "codemirror_mode": {
    "name": "ipython",
    "version": 3
   },
   "file_extension": ".py",
   "mimetype": "text/x-python",
   "name": "python",
   "nbconvert_exporter": "python",
   "pygments_lexer": "ipython3",
   "version": "3.10.16"
  }
 },
 "nbformat": 4,
 "nbformat_minor": 5
}
